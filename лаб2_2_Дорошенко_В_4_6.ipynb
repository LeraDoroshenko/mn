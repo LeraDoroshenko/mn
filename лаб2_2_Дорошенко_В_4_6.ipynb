{
  "nbformat": 4,
  "nbformat_minor": 0,
  "metadata": {
    "colab": {
      "provenance": [],
      "authorship_tag": "ABX9TyMshTTWb3yo5woq2ej9L6tB",
      "include_colab_link": true
    },
    "kernelspec": {
      "name": "python3",
      "display_name": "Python 3"
    },
    "language_info": {
      "name": "python"
    }
  },
  "cells": [
    {
      "cell_type": "markdown",
      "metadata": {
        "id": "view-in-github",
        "colab_type": "text"
      },
      "source": [
        "<a href=\"https://colab.research.google.com/github/LeraDoroshenko/mn/blob/main/%D0%BB%D0%B0%D0%B12_2_%D0%94%D0%BE%D1%80%D0%BE%D1%88%D0%B5%D0%BD%D0%BA%D0%BE_%D0%92_4_6.ipynb\" target=\"_parent\"><img src=\"https://colab.research.google.com/assets/colab-badge.svg\" alt=\"Open In Colab\"/></a>"
      ]
    },
    {
      "cell_type": "markdown",
      "source": [
        "**Завдання 2. Завантажити датасет Титанік з Kaggle (або використовуйте вже завантажений файл titanic.csv)\n",
        "Виконати попередній аналіз даних.**"
      ],
      "metadata": {
        "id": "YMxqfRJW6e7W"
      }
    },
    {
      "cell_type": "code",
      "execution_count": 1,
      "metadata": {
        "colab": {
          "base_uri": "https://localhost:8080/"
        },
        "id": "tiXty_cm6Wq-",
        "outputId": "ca9b19a1-12d4-4345-d75b-4d5f20381f1d"
      },
      "outputs": [
        {
          "output_type": "stream",
          "name": "stdout",
          "text": [
            "Mounted at /content/drive\n"
          ]
        }
      ],
      "source": [
        "import pandas as pd\n",
        "from google.colab import drive\n",
        "\n",
        "drive.mount('/content/drive')\n",
        "\n",
        "file_path = '/content/drive/My Drive/Colab Notebooks/titanic (2).csv'\n",
        "df = pd.read_csv(file_path)"
      ]
    },
    {
      "cell_type": "markdown",
      "source": [
        "**1. Вивести перших 5 рядків.**"
      ],
      "metadata": {
        "id": "UYAJS84-6jH1"
      }
    },
    {
      "cell_type": "code",
      "source": [
        "print(df.head())"
      ],
      "metadata": {
        "colab": {
          "base_uri": "https://localhost:8080/"
        },
        "id": "kGwRkcUF6rFi",
        "outputId": "f872c404-2fdf-4c95-b532-c2dfe0b0e43d"
      },
      "execution_count": 2,
      "outputs": [
        {
          "output_type": "stream",
          "name": "stdout",
          "text": [
            "   PassengerId  Survived  Pclass  \\\n",
            "0          892         0       3   \n",
            "1          893         1       3   \n",
            "2          894         0       2   \n",
            "3          895         0       3   \n",
            "4          896         1       3   \n",
            "\n",
            "                                           Name     Sex   Age  SibSp  Parch  \\\n",
            "0                              Kelly, Mr. James    male  34.5      0      0   \n",
            "1              Wilkes, Mrs. James (Ellen Needs)  female  47.0      1      0   \n",
            "2                     Myles, Mr. Thomas Francis    male  62.0      0      0   \n",
            "3                              Wirz, Mr. Albert    male  27.0      0      0   \n",
            "4  Hirvonen, Mrs. Alexander (Helga E Lindqvist)  female  22.0      1      1   \n",
            "\n",
            "    Ticket     Fare Cabin Embarked  \n",
            "0   330911   7.8292   NaN        Q  \n",
            "1   363272   7.0000   NaN        S  \n",
            "2   240276   9.6875   NaN        Q  \n",
            "3   315154   8.6625   NaN        S  \n",
            "4  3101298  12.2875   NaN        S  \n"
          ]
        }
      ]
    },
    {
      "cell_type": "markdown",
      "source": [
        "**2. Визначити розмір датасета.**"
      ],
      "metadata": {
        "id": "LQ2djIVU6v2R"
      }
    },
    {
      "cell_type": "code",
      "source": [
        "print(df.shape)"
      ],
      "metadata": {
        "colab": {
          "base_uri": "https://localhost:8080/"
        },
        "id": "ynMlHG-56wl4",
        "outputId": "db88b152-3608-481f-cd88-9fc42a0def3a"
      },
      "execution_count": 3,
      "outputs": [
        {
          "output_type": "stream",
          "name": "stdout",
          "text": [
            "(418, 12)\n"
          ]
        }
      ]
    },
    {
      "cell_type": "markdown",
      "source": [
        "**3. Визначити тип даних.**"
      ],
      "metadata": {
        "id": "eSJFlc3O62pn"
      }
    },
    {
      "cell_type": "code",
      "source": [
        "print(df.dtypes)"
      ],
      "metadata": {
        "colab": {
          "base_uri": "https://localhost:8080/"
        },
        "id": "6J9AYDeu677Y",
        "outputId": "703b4680-a4fa-497b-9a34-c5e229b8b92f"
      },
      "execution_count": 4,
      "outputs": [
        {
          "output_type": "stream",
          "name": "stdout",
          "text": [
            "PassengerId      int64\n",
            "Survived         int64\n",
            "Pclass           int64\n",
            "Name            object\n",
            "Sex             object\n",
            "Age            float64\n",
            "SibSp            int64\n",
            "Parch            int64\n",
            "Ticket          object\n",
            "Fare           float64\n",
            "Cabin           object\n",
            "Embarked        object\n",
            "dtype: object\n"
          ]
        }
      ]
    },
    {
      "cell_type": "markdown",
      "source": [
        "**4. Визначити наявність пропущених значень. При наявності, замінити пропущені значення на середнє значення.**"
      ],
      "metadata": {
        "id": "CwVY3RyK7A1o"
      }
    },
    {
      "cell_type": "code",
      "source": [
        "print(df.isnull().sum())"
      ],
      "metadata": {
        "colab": {
          "base_uri": "https://localhost:8080/"
        },
        "id": "uyqddOmO7C02",
        "outputId": "5aab8fe7-64a0-4f5a-8b12-7c3df8bf2820"
      },
      "execution_count": 5,
      "outputs": [
        {
          "output_type": "stream",
          "name": "stdout",
          "text": [
            "PassengerId      0\n",
            "Survived         0\n",
            "Pclass           0\n",
            "Name             0\n",
            "Sex              0\n",
            "Age             86\n",
            "SibSp            0\n",
            "Parch            0\n",
            "Ticket           0\n",
            "Fare             1\n",
            "Cabin          327\n",
            "Embarked         0\n",
            "dtype: int64\n"
          ]
        }
      ]
    },
    {
      "cell_type": "code",
      "source": [
        "df.fillna(df.mean(numeric_only=True), inplace=True)"
      ],
      "metadata": {
        "id": "ITQdul3-7Euq"
      },
      "execution_count": 6,
      "outputs": []
    },
    {
      "cell_type": "code",
      "source": [
        "print(df.isnull().sum())"
      ],
      "metadata": {
        "colab": {
          "base_uri": "https://localhost:8080/"
        },
        "id": "j48Z6eBN7Gk6",
        "outputId": "eab27f80-5e41-4f54-f7df-cf710e1b764a"
      },
      "execution_count": 7,
      "outputs": [
        {
          "output_type": "stream",
          "name": "stdout",
          "text": [
            "PassengerId      0\n",
            "Survived         0\n",
            "Pclass           0\n",
            "Name             0\n",
            "Sex              0\n",
            "Age              0\n",
            "SibSp            0\n",
            "Parch            0\n",
            "Ticket           0\n",
            "Fare             0\n",
            "Cabin          327\n",
            "Embarked         0\n",
            "dtype: int64\n"
          ]
        }
      ]
    },
    {
      "cell_type": "markdown",
      "source": [
        "**6. Перевірити наявність дублікатів. При наявності видалити дублікати.**"
      ],
      "metadata": {
        "id": "YCXKlYTt7IuJ"
      }
    },
    {
      "cell_type": "code",
      "source": [
        "duplicates = df.duplicated().sum()\n",
        "print(\"Кількість дублікатів:\", duplicates)\n",
        "if duplicates > 0:\n",
        "    df.drop_duplicates(inplace=True)\n",
        "    print(\"Дублікати видалено.\")"
      ],
      "metadata": {
        "colab": {
          "base_uri": "https://localhost:8080/"
        },
        "id": "9_xd9-k_7Pty",
        "outputId": "7d97c4a4-79d4-4759-e80f-5a971d909942"
      },
      "execution_count": 8,
      "outputs": [
        {
          "output_type": "stream",
          "name": "stdout",
          "text": [
            "Кількість дублікатів: 0\n"
          ]
        }
      ]
    },
    {
      "cell_type": "markdown",
      "source": [
        "**7. Вивести описову статистику датасету describe()**"
      ],
      "metadata": {
        "id": "Ro-ZH1wg7RlU"
      }
    },
    {
      "cell_type": "code",
      "source": [
        "print(df.describe())"
      ],
      "metadata": {
        "colab": {
          "base_uri": "https://localhost:8080/"
        },
        "id": "036pWxwh7T5V",
        "outputId": "08d84cdc-5b29-471c-b778-e5babed90d32"
      },
      "execution_count": 9,
      "outputs": [
        {
          "output_type": "stream",
          "name": "stdout",
          "text": [
            "       PassengerId    Survived      Pclass         Age       SibSp  \\\n",
            "count   418.000000  418.000000  418.000000  418.000000  418.000000   \n",
            "mean   1100.500000    0.363636    2.265550   30.272590    0.447368   \n",
            "std     120.810458    0.481622    0.841838   12.634534    0.896760   \n",
            "min     892.000000    0.000000    1.000000    0.170000    0.000000   \n",
            "25%     996.250000    0.000000    1.000000   23.000000    0.000000   \n",
            "50%    1100.500000    0.000000    3.000000   30.272590    0.000000   \n",
            "75%    1204.750000    1.000000    3.000000   35.750000    1.000000   \n",
            "max    1309.000000    1.000000    3.000000   76.000000    8.000000   \n",
            "\n",
            "            Parch        Fare  \n",
            "count  418.000000  418.000000  \n",
            "mean     0.392344   35.627188  \n",
            "std      0.981429   55.840500  \n",
            "min      0.000000    0.000000  \n",
            "25%      0.000000    7.895800  \n",
            "50%      0.000000   14.454200  \n",
            "75%      0.000000   31.500000  \n",
            "max      9.000000  512.329200  \n"
          ]
        }
      ]
    },
    {
      "cell_type": "markdown",
      "source": [
        "**8. Видалити стовпчик Cabin**"
      ],
      "metadata": {
        "id": "Kzwipupn7XKJ"
      }
    },
    {
      "cell_type": "code",
      "source": [
        "df.drop(columns=['Cabin'], inplace=True)"
      ],
      "metadata": {
        "id": "6UjG6Qel7ZMk"
      },
      "execution_count": 10,
      "outputs": []
    },
    {
      "cell_type": "markdown",
      "source": [
        "**9. Сформувати датасет з обраними стовпцями: ['Survived', 'Pclass', 'Sex', 'Age', 'Fare']]**"
      ],
      "metadata": {
        "id": "dDOjV0Mo7bn8"
      }
    },
    {
      "cell_type": "code",
      "source": [
        "df_selected = df[['Survived', 'Pclass', 'Sex', 'Age', 'Fare']]"
      ],
      "metadata": {
        "id": "QOXmMgT47gGw"
      },
      "execution_count": 11,
      "outputs": []
    },
    {
      "cell_type": "markdown",
      "source": [
        "**10.Замінити бінарні ознаки (Стать) на 0 і 1 (але перевірте унікальні значення даного стовпчика).**"
      ],
      "metadata": {
        "id": "5RpOHLJl7fUB"
      }
    },
    {
      "cell_type": "code",
      "source": [
        "df_selected = df[['Survived', 'Pclass', 'Sex', 'Age', 'Fare']].copy()\n",
        "df_selected.loc[:, 'Sex'] = df_selected['Sex'].map({'male': 0, 'female': 1})\n",
        "print(df_selected.head())\n",
        "print(\"Унікальні значення стовпця 'Sex':\", df_selected['Sex'].unique())\n",
        "df_selected['Sex'] = df_selected['Sex'].map({'male': 0, 'female': 1})"
      ],
      "metadata": {
        "colab": {
          "base_uri": "https://localhost:8080/"
        },
        "id": "A9QsCZbD7kYa",
        "outputId": "157acc25-9aca-4ee3-d3c5-e29374d0a2db"
      },
      "execution_count": 12,
      "outputs": [
        {
          "output_type": "stream",
          "name": "stdout",
          "text": [
            "   Survived  Pclass Sex   Age     Fare\n",
            "0         0       3   0  34.5   7.8292\n",
            "1         1       3   1  47.0   7.0000\n",
            "2         0       2   0  62.0   9.6875\n",
            "3         0       3   0  27.0   8.6625\n",
            "4         1       3   1  22.0  12.2875\n",
            "Унікальні значення стовпця 'Sex': [0 1]\n"
          ]
        }
      ]
    },
    {
      "cell_type": "markdown",
      "source": [
        "**11.Ще раз перевірити кількість пропущених даних (впевнитись, що їх немає).**"
      ],
      "metadata": {
        "id": "uEkpXuMv7mNT"
      }
    },
    {
      "cell_type": "code",
      "source": [
        "print(df_selected.isna().sum())"
      ],
      "metadata": {
        "colab": {
          "base_uri": "https://localhost:8080/"
        },
        "id": "djzoElOD7oJb",
        "outputId": "10cf473a-11e3-4636-efb4-8c55c69f8914"
      },
      "execution_count": 13,
      "outputs": [
        {
          "output_type": "stream",
          "name": "stdout",
          "text": [
            "Survived      0\n",
            "Pclass        0\n",
            "Sex         418\n",
            "Age           0\n",
            "Fare          0\n",
            "dtype: int64\n"
          ]
        }
      ]
    },
    {
      "cell_type": "markdown",
      "source": [
        "**12.Вивести 5 перших рядків датасету.**\n",
        "**13.Вивести 5 останніх рядків датасету.**"
      ],
      "metadata": {
        "id": "3uNmRuzw7pyn"
      }
    },
    {
      "cell_type": "code",
      "source": [
        "print(df_selected.head())\n",
        "print(df_selected.tail())"
      ],
      "metadata": {
        "colab": {
          "base_uri": "https://localhost:8080/"
        },
        "id": "Ha7IKOAF7sLk",
        "outputId": "a414a09f-4fe2-414e-a5e0-ca897f2b59e2"
      },
      "execution_count": 14,
      "outputs": [
        {
          "output_type": "stream",
          "name": "stdout",
          "text": [
            "   Survived  Pclass  Sex   Age     Fare\n",
            "0         0       3  NaN  34.5   7.8292\n",
            "1         1       3  NaN  47.0   7.0000\n",
            "2         0       2  NaN  62.0   9.6875\n",
            "3         0       3  NaN  27.0   8.6625\n",
            "4         1       3  NaN  22.0  12.2875\n",
            "     Survived  Pclass  Sex       Age      Fare\n",
            "413         0       3  NaN  30.27259    8.0500\n",
            "414         1       1  NaN  39.00000  108.9000\n",
            "415         0       3  NaN  38.50000    7.2500\n",
            "416         0       3  NaN  30.27259    8.0500\n",
            "417         0       3  NaN  30.27259   22.3583\n"
          ]
        }
      ]
    },
    {
      "cell_type": "markdown",
      "source": [
        "**14.Аналіз виживання залежно від статі: Обчисліть відсоток виживання для кожної статі.**\n"
      ],
      "metadata": {
        "id": "pPACoMcO7tws"
      }
    },
    {
      "cell_type": "code",
      "source": [
        "survival_rate_by_sex = df_selected.groupby('Sex')['Survived'].mean()\n",
        "print(survival_rate_by_sex)"
      ],
      "metadata": {
        "colab": {
          "base_uri": "https://localhost:8080/"
        },
        "id": "9-0OwVhc74Wf",
        "outputId": "c9b521ff-0544-4e8d-8b9d-49a83930ba54"
      },
      "execution_count": 15,
      "outputs": [
        {
          "output_type": "stream",
          "name": "stdout",
          "text": [
            "Series([], Name: Survived, dtype: float64)\n"
          ]
        }
      ]
    },
    {
      "cell_type": "markdown",
      "source": [
        "**15.Обчисліть відсоток виживання для кожного класу (Pclass).**"
      ],
      "metadata": {
        "id": "WQOen3_H771c"
      }
    },
    {
      "cell_type": "code",
      "source": [
        "survival_rate_by_class = df_selected.groupby('Pclass')['Survived'].mean()\n",
        "print(survival_rate_by_class)"
      ],
      "metadata": {
        "colab": {
          "base_uri": "https://localhost:8080/"
        },
        "id": "N5XRx5u37-LE",
        "outputId": "54d37fb6-646c-4c4b-b1e5-b9ace5932ee5"
      },
      "execution_count": 16,
      "outputs": [
        {
          "output_type": "stream",
          "name": "stdout",
          "text": [
            "Pclass\n",
            "1    0.467290\n",
            "2    0.322581\n",
            "3    0.330275\n",
            "Name: Survived, dtype: float64\n"
          ]
        }
      ]
    },
    {
      "cell_type": "markdown",
      "source": [
        "**16. Визначте середній вік тих, хто вижив, і тих, хто не вижив.**"
      ],
      "metadata": {
        "id": "wNlwFSiV8Axe"
      }
    },
    {
      "cell_type": "code",
      "source": [
        "avg_age_by_survival = df_selected.groupby('Survived')['Age'].mean()\n",
        "print(avg_age_by_survival)"
      ],
      "metadata": {
        "colab": {
          "base_uri": "https://localhost:8080/"
        },
        "id": "INF81I-F8DEL",
        "outputId": "3d0e4bb8-c3cb-4afc-fd90-f3432d5410de"
      },
      "execution_count": 17,
      "outputs": [
        {
          "output_type": "stream",
          "name": "stdout",
          "text": [
            "Survived\n",
            "0    30.272699\n",
            "1    30.272400\n",
            "Name: Age, dtype: float64\n"
          ]
        }
      ]
    },
    {
      "cell_type": "markdown",
      "source": [
        "**17. Розподіліть пасажирів на групи за рівнями тарифів (Fare) і обчисліть рівень виживання для кожної групи.**"
      ],
      "metadata": {
        "id": "NCsBzwiy8F-b"
      }
    },
    {
      "cell_type": "code",
      "source": [
        "fare_bins = pd.qcut(df_selected['Fare'], 4)\n",
        "survival_by_fare = df_selected.groupby(fare_bins, observed=True)['Survived'].mean() * 100\n",
        "print(survival_by_fare)"
      ],
      "metadata": {
        "colab": {
          "base_uri": "https://localhost:8080/"
        },
        "id": "Q2Cwv1Ve8KEN",
        "outputId": "b90caa6a-0909-482b-e94b-87fa518a09ac"
      },
      "execution_count": 18,
      "outputs": [
        {
          "output_type": "stream",
          "name": "stdout",
          "text": [
            "Fare\n",
            "(-0.001, 7.896]    26.315789\n",
            "(7.896, 14.454]    27.083333\n",
            "(14.454, 31.5]     39.047619\n",
            "(31.5, 512.329]    53.398058\n",
            "Name: Survived, dtype: float64\n"
          ]
        }
      ]
    },
    {
      "cell_type": "markdown",
      "source": [
        "**18.Аналіз класу та тарифу: Визначте середній тариф (Fare) для кожного класу (Pclass).**"
      ],
      "metadata": {
        "id": "eymEfFAM8QG1"
      }
    },
    {
      "cell_type": "code",
      "source": [
        "avg_fare_by_class = df_selected.groupby('Pclass')['Fare'].mean()\n",
        "print(avg_fare_by_class)"
      ],
      "metadata": {
        "colab": {
          "base_uri": "https://localhost:8080/"
        },
        "id": "nmoaGx1H8TaL",
        "outputId": "c49c7cbd-3bcb-40a3-c7bb-bbfdb97e8bf0"
      },
      "execution_count": 19,
      "outputs": [
        {
          "output_type": "stream",
          "name": "stdout",
          "text": [
            "Pclass\n",
            "1    94.280297\n",
            "2    22.202104\n",
            "3    12.565951\n",
            "Name: Fare, dtype: float64\n"
          ]
        }
      ]
    },
    {
      "cell_type": "markdown",
      "source": [
        "**19. Обчисліть середній вік пасажирів для кожного класу (Pclass).**"
      ],
      "metadata": {
        "id": "vT5DLBxu8WAe"
      }
    },
    {
      "cell_type": "code",
      "source": [
        "avg_age_by_class = df_selected.groupby('Pclass')['Age'].mean()\n",
        "print(avg_age_by_class)"
      ],
      "metadata": {
        "id": "8Oq6VmYX8X3t"
      },
      "execution_count": null,
      "outputs": []
    },
    {
      "cell_type": "markdown",
      "source": [
        "**20.Побудуйте гістограму розподілу віку для тих, хто вижив, і тих, хто не вижив.**"
      ],
      "metadata": {
        "id": "fXPGcS6E8ZMK"
      }
    },
    {
      "cell_type": "code",
      "source": [
        "import matplotlib.pyplot as plt\n",
        "\n",
        "df_selected[df_selected['Survived'] == 1]['Age'].hist(alpha=0.5, label='Survived')\n",
        "df_selected[df_selected['Survived'] == 0]['Age'].hist(alpha=0.5, label='Did not Survive')\n",
        "plt.legend()\n",
        "plt.title('Age Distribution by Survival')\n",
        "plt.show()"
      ],
      "metadata": {
        "colab": {
          "base_uri": "https://localhost:8080/",
          "height": 452
        },
        "id": "ypvt5mk_8dN-",
        "outputId": "8d260685-c642-4cd7-b6f3-908a29ea93a9"
      },
      "execution_count": 22,
      "outputs": [
        {
          "output_type": "display_data",
          "data": {
            "text/plain": [
              "<Figure size 640x480 with 1 Axes>"
            ],
            "image/png": "[encoded data removed]"
          },
          "metadata": {}
        }
      ]
    },
    {
      "cell_type": "markdown",
      "source": [
        "**21. Обчисліть відсоток виживання для кожної комбінації статі та класу (наприклад, жінки в 1-му класі, чоловіки в 3-му класі).**"
      ],
      "metadata": {
        "id": "jEfv_Ch08rr1"
      }
    },
    {
      "cell_type": "code",
      "source": [
        "survival_by_sex_class = df.groupby(['Sex', 'Pclass'])['Survived'].mean() * 100\n",
        "print(survival_by_sex_class)\n",
        "print(survival_by_sex_class.idxmax())"
      ],
      "metadata": {
        "colab": {
          "base_uri": "https://localhost:8080/"
        },
        "id": "RdFisRVz8vBi",
        "outputId": "84e8cdb1-f051-44cd-a78d-50d3ca72bbdc"
      },
      "execution_count": 26,
      "outputs": [
        {
          "output_type": "stream",
          "name": "stdout",
          "text": [
            "Sex     Pclass\n",
            "female  1         100.0\n",
            "        2         100.0\n",
            "        3         100.0\n",
            "male    1           0.0\n",
            "        2           0.0\n",
            "        3           0.0\n",
            "Name: Survived, dtype: float64\n",
            "('female', 1)\n"
          ]
        }
      ]
    },
    {
      "cell_type": "markdown",
      "source": [
        "**22.Обчисліть кореляцію між усіма числовими змінними (Survived, Pclass, Age, Fare).**"
      ],
      "metadata": {
        "id": "w2PdbjkR9NN7"
      }
    },
    {
      "cell_type": "code",
      "source": [
        "correlation_matrix = df_selected[['Survived', 'Pclass', 'Age', 'Fare']].corr()\n",
        "print(correlation_matrix)"
      ],
      "metadata": {
        "colab": {
          "base_uri": "https://localhost:8080/"
        },
        "id": "-MHoBqHh9Qqj",
        "outputId": "93284e07-e08c-44e0-9784-94cf52b69ded"
      },
      "execution_count": 27,
      "outputs": [
        {
          "output_type": "stream",
          "name": "stdout",
          "text": [
            "          Survived    Pclass       Age      Fare\n",
            "Survived  1.000000 -0.108615 -0.000011  0.191382\n",
            "Pclass   -0.108615  1.000000 -0.440782 -0.576619\n",
            "Age      -0.000011 -0.440782  1.000000  0.326800\n",
            "Fare      0.191382 -0.576619  0.326800  1.000000\n"
          ]
        }
      ]
    },
    {
      "cell_type": "markdown",
      "source": [
        "**Висновок**\n",
        "\n",
        "В ході виконання даного завдання проаналізовано дані Титаніка. Виявлено та замінено пропущені значення в деяких стовпцях, аби забезпечити коректний подальший аналіз. Також, було виявлено високу залежність виживання від статі та класу."
      ],
      "metadata": {
        "id": "O-zX-k1p9XOl"
      }
    }
  ]
}