{
  "nbformat": 4,
  "nbformat_minor": 0,
  "metadata": {
    "colab": {
      "provenance": [],
      "authorship_tag": "ABX9TyP8RAJvBUVBzPgjnIwnpo7D",
      "include_colab_link": true
    },
    "kernelspec": {
      "name": "python3",
      "display_name": "Python 3"
    },
    "language_info": {
      "name": "python"
    }
  },
  "cells": [
    {
      "cell_type": "markdown",
      "metadata": {
        "id": "view-in-github",
        "colab_type": "text"
      },
      "source": [
        "<a href=\"https://colab.research.google.com/github/LeraDoroshenko/mn/blob/main/%D0%94%D0%BE%D1%80%D0%BE%D1%88%D0%B5%D0%BD%D0%BA%D0%BE_%D0%BB%D0%B11_%D0%B29.ipynb\" target=\"_parent\"><img src=\"https://colab.research.google.com/assets/colab-badge.svg\" alt=\"Open In Colab\"/></a>"
      ]
    },
    {
      "cell_type": "code",
      "source": [
        "import numpy as np\n",
        "numpy_version = np.__version__\n",
        "print(f\"NumPy version: {numpy_version}\")"
      ],
      "metadata": {
        "colab": {
          "base_uri": "https://localhost:8080/"
        },
        "id": "5YuHOGR2cCH6",
        "outputId": "921dea05-c949-4074-89ba-37298591f4d1"
      },
      "execution_count": 3,
      "outputs": [
        {
          "output_type": "stream",
          "name": "stdout",
          "text": [
            "NumPy version: 1.26.4\n"
          ]
        }
      ]
    },
    {
      "cell_type": "markdown",
      "source": [
        "***1. Створіть одновимірний масив (вектор) з числами Фібоначчі, де кожне число дорівнює сумі двох попередніх, та виведіть його значення.***"
      ],
      "metadata": {
        "id": "cwemBKd_Xsgn"
      }
    },
    {
      "cell_type": "code",
      "source": [
        "def array(n):\n",
        "    arr = np.zeros(n, dtype=int)\n",
        "    arr[0] = 0\n",
        "    arr[1] = 1\n",
        "    for i in range(2, n):\n",
        "        arr[i] = arr[i-1] + arr[i-2]\n",
        "    return arr\n",
        "\n",
        "n = 10\n",
        "arr = array(n)\n",
        "print(arr)"
      ],
      "metadata": {
        "colab": {
          "base_uri": "https://localhost:8080/"
        },
        "id": "RPqt-qvyBF4M",
        "outputId": "a61f264f-716d-421c-ee0e-38a4272bd43a"
      },
      "execution_count": 4,
      "outputs": [
        {
          "output_type": "stream",
          "name": "stdout",
          "text": [
            "[ 0  1  1  2  3  5  8 13 21 34]\n"
          ]
        }
      ]
    },
    {
      "cell_type": "markdown",
      "source": [
        "***2. Створіть двовимірний масив (матрицю) розміром 3х3, заповніть його значеннями експонент n^2 для кожного натурального числа n, починаючи з 1, та виведіть його значення.***"
      ],
      "metadata": {
        "id": "xE0zWeaTX5pr"
      }
    },
    {
      "cell_type": "code",
      "source": [
        "matrix = np.zeros((3, 3), dtype=float)\n",
        "\n",
        "n = 1\n",
        "for i in range(3):\n",
        "    for j in range(3):\n",
        "        matrix[i, j] = np.exp(n**2)\n",
        "        n += 1\n",
        "\n",
        "print(matrix)"
      ],
      "metadata": {
        "colab": {
          "base_uri": "https://localhost:8080/"
        },
        "id": "QEfPeWHdYY_M",
        "outputId": "167b3c46-69be-4cab-f9e7-20344c64d74d"
      },
      "execution_count": 5,
      "outputs": [
        {
          "output_type": "stream",
          "name": "stdout",
          "text": [
            "[[2.71828183e+00 5.45981500e+01 8.10308393e+03]\n",
            " [8.88611052e+06 7.20048993e+10 4.31123155e+15]\n",
            " [1.90734657e+21 6.23514908e+27 1.50609731e+35]]\n"
          ]
        }
      ]
    },
    {
      "cell_type": "markdown",
      "source": [
        "***3. Створіть масив розміром 3х3, заповніть його випадковими дійсними числами від -1 до 1 та виведіть його значення.***"
      ],
      "metadata": {
        "id": "YFO6OSxpYZUC"
      }
    },
    {
      "cell_type": "code",
      "source": [
        "matrix = np.random.uniform(-1, 1, (3, 3))\n",
        "\n",
        "print(matrix)"
      ],
      "metadata": {
        "colab": {
          "base_uri": "https://localhost:8080/"
        },
        "id": "uXliHP98Yqqc",
        "outputId": "cd64f201-6fea-49c9-efcc-de2877787070"
      },
      "execution_count": 6,
      "outputs": [
        {
          "output_type": "stream",
          "name": "stdout",
          "text": [
            "[[-0.03909575  0.32248177 -0.84771238]\n",
            " [ 0.81892803  0.32527471 -0.01684459]\n",
            " [-0.49499215  0.91182638  0.09465225]]\n"
          ]
        }
      ]
    },
    {
      "cell_type": "markdown",
      "source": [
        "***4. Створіть масив розміром 3х3, заповніть його випадковми дійсними числами в діапазоні від 0 до 1 та знайдіть середнє геометричне всіх елементів.***"
      ],
      "metadata": {
        "id": "CpzeaSpRYrBw"
      }
    },
    {
      "cell_type": "code",
      "source": [
        "from scipy.stats import gmean\n",
        "\n",
        "matrix = np.random.uniform(0, 1, (3, 3))\n",
        "\n",
        "print(\"Matrix:\")\n",
        "print(matrix)\n",
        "\n",
        "geom = gmean(matrix.flatten())\n",
        "\n",
        "print(\"\\nGeom:\")\n",
        "print(geom)"
      ],
      "metadata": {
        "colab": {
          "base_uri": "https://localhost:8080/"
        },
        "id": "F1SSibWTY9S6",
        "outputId": "fd24e278-2a7e-4b47-f531-1721947a9a39"
      },
      "execution_count": 7,
      "outputs": [
        {
          "output_type": "stream",
          "name": "stdout",
          "text": [
            "Matrix:\n",
            "[[0.58886224 0.35173307 0.51674803]\n",
            " [0.55350179 0.88417227 0.15218397]\n",
            " [0.87145314 0.84616298 0.35116619]]\n",
            "\n",
            "Geom:\n",
            "0.5030810099725301\n"
          ]
        }
      ]
    },
    {
      "cell_type": "markdown",
      "source": [
        "***5. Створіть два одновимірних масиви розміром 6, заповніть їх випадковими дійсними числами від -5 до 5 та виконайте на них поелементні оперції додавання, віднімання та множення.***"
      ],
      "metadata": {
        "id": "bpGEMXovY9tS"
      }
    },
    {
      "cell_type": "code",
      "source": [
        "array1 = np.random.uniform(-5, 5, 6)\n",
        "array2 = np.random.uniform(-5, 5, 6)\n",
        "\n",
        "add = array1 + array2\n",
        "\n",
        "sub = array1 - array2\n",
        "\n",
        "mult = array1 * array2\n",
        "\n",
        "print(\"Array 1:\")\n",
        "print(array1)\n",
        "print(\"\\nArray 2:\")\n",
        "print(array2)\n",
        "\n",
        "print(\"\\nAddition:\")\n",
        "print(add)\n",
        "print(\"\\nSubtraction:\")\n",
        "print(sub)\n",
        "print(\"\\nMultiplication:\")\n",
        "print(mult)"
      ],
      "metadata": {
        "colab": {
          "base_uri": "https://localhost:8080/"
        },
        "id": "rwq2bDWoZV-n",
        "outputId": "1327fd9b-cf67-4bfc-8f99-18ddf7646868"
      },
      "execution_count": 8,
      "outputs": [
        {
          "output_type": "stream",
          "name": "stdout",
          "text": [
            "Array 1:\n",
            "[-0.50696413  3.63983188 -3.35942772 -4.31885992 -0.30266433 -2.82063687]\n",
            "\n",
            "Array 2:\n",
            "[-3.74157199 -0.23719849  0.60011537  0.38278355 -0.47576241  4.7576954 ]\n",
            "\n",
            "Addition:\n",
            "[-4.24853612  3.40263339 -2.75931235 -3.93607637 -0.77842673  1.93705853]\n",
            "\n",
            "Subtraction:\n",
            "[ 3.23460785  3.87703037 -3.95954308 -4.70164348  0.17309808 -7.57833227]\n",
            "\n",
            "Multiplication:\n",
            "[  1.89684279  -0.86336263  -2.01604419  -1.65318855   0.14399631\n",
            " -13.41973107]\n"
          ]
        }
      ]
    },
    {
      "cell_type": "markdown",
      "source": [
        "***6. Створіть дві матриці 5х5, заповніть їх довільними цілими числами від 1 до 10 та знайдіть їх добуток.***"
      ],
      "metadata": {
        "id": "JpDvc9aQZWfH"
      }
    },
    {
      "cell_type": "code",
      "source": [
        "matrix1 = np.random.randint(1, 11, (5, 5))\n",
        "matrix2 = np.random.randint(1, 11, (5, 5))\n",
        "\n",
        "product = np.dot(matrix1, matrix2)\n",
        "\n",
        "print(\"Matrix 1:\")\n",
        "print(matrix1)\n",
        "\n",
        "print(\"\\nMatrix 2:\")\n",
        "print(matrix2)\n",
        "\n",
        "print(\"\\nMatrix Product:\")\n",
        "print(product)"
      ],
      "metadata": {
        "colab": {
          "base_uri": "https://localhost:8080/"
        },
        "id": "gjntZ3PgZrVC",
        "outputId": "f1912324-bdb0-410c-a6b2-8c87a27d64a2"
      },
      "execution_count": 9,
      "outputs": [
        {
          "output_type": "stream",
          "name": "stdout",
          "text": [
            "Matrix 1:\n",
            "[[ 9  5  6  7  2]\n",
            " [ 6  3  1  5  9]\n",
            " [ 7  2  1  9  7]\n",
            " [ 6  5  3  5 10]\n",
            " [ 2  9 10  3  2]]\n",
            "\n",
            "Matrix 2:\n",
            "[[10  4  2  8  7]\n",
            " [ 1  1  7  3  6]\n",
            " [ 3  3  6  8  5]\n",
            " [ 6  8  6  8  7]\n",
            " [ 9  8  1  3  7]]\n",
            "\n",
            "Matrix Product:\n",
            "[[173 131 133 197 186]\n",
            " [177 142  78 132 163]\n",
            " [192 161  95 163 178]\n",
            " [194 158 105 157 192]\n",
            " [ 95  87 147 153 153]]\n"
          ]
        }
      ]
    },
    {
      "cell_type": "markdown",
      "source": [
        "***7. Створіть дві матриці розміром 3х2 та 2х4, заповніть їх випадковими цілими числами в діапазоні від 1 до 10 та перемножте їх між собою.***"
      ],
      "metadata": {
        "id": "A4YML-B2Zr8N"
      }
    },
    {
      "cell_type": "code",
      "source": [
        "matrix1 = np.random.randint(1, 11, (3, 2))\n",
        "\n",
        "matrix2 = np.random.randint(1, 11, (2, 4))\n",
        "\n",
        "product = np.dot(matrix1, matrix2)\n",
        "\n",
        "print(\"Matrix 1:\")\n",
        "print(matrix1)\n",
        "\n",
        "print(\"\\nMatrix 2:\")\n",
        "print(matrix2)\n",
        "\n",
        "print(\"\\nMatrix Product:\")\n",
        "print(product)"
      ],
      "metadata": {
        "colab": {
          "base_uri": "https://localhost:8080/"
        },
        "id": "TBf4m_PQZ-xh",
        "outputId": "6807e906-99f0-42b2-b59b-c5af4bd50fd7"
      },
      "execution_count": 11,
      "outputs": [
        {
          "output_type": "stream",
          "name": "stdout",
          "text": [
            "Matrix 1:\n",
            "[[5 1]\n",
            " [9 5]\n",
            " [7 4]]\n",
            "\n",
            "Matrix 2:\n",
            "[[ 3 10  7 10]\n",
            " [10  4  3 10]]\n",
            "\n",
            "Matrix Product:\n",
            "[[ 25  54  38  60]\n",
            " [ 77 110  78 140]\n",
            " [ 61  86  61 110]]\n"
          ]
        }
      ]
    },
    {
      "cell_type": "markdown",
      "source": [
        "***8. Створіть матрицю розміром 2х2, заповніть її випадковими цілими числами в діапазоні від 1 до 15 та знайдіть її обернену матрицю.***"
      ],
      "metadata": {
        "id": "-2DmZ8cYZ_LL"
      }
    },
    {
      "cell_type": "code",
      "source": [
        "matrix = np.random.randint(1, 16, (2, 2))\n",
        "\n",
        "inverse_matrix = np.linalg.inv(matrix)\n",
        "\n",
        "print(\"Matrix:\")\n",
        "print(matrix)\n",
        "\n",
        "print(\"\\nInverse Matrix:\")\n",
        "print(inverse_matrix)"
      ],
      "metadata": {
        "colab": {
          "base_uri": "https://localhost:8080/"
        },
        "id": "652MoiBIaP0_",
        "outputId": "cc8f6a1f-e155-4640-e9c5-998a36d9fb2a"
      },
      "execution_count": 12,
      "outputs": [
        {
          "output_type": "stream",
          "name": "stdout",
          "text": [
            "Matrix:\n",
            "[[ 2  1]\n",
            " [15  9]]\n",
            "\n",
            "Inverse Matrix:\n",
            "[[ 3.         -0.33333333]\n",
            " [-5.          0.66666667]]\n"
          ]
        }
      ]
    },
    {
      "cell_type": "markdown",
      "source": [
        "***9. Створіть матрицю розміром 3х3, заповніть її випадковими цілими числами в діапазоні від 7 до 15 та транспонуйте її.***"
      ],
      "metadata": {
        "id": "A67BLR9waQLq"
      }
    },
    {
      "cell_type": "code",
      "source": [
        "matrix = np.random.randint(7, 16, (3, 3))\n",
        "\n",
        "transposed_matrix = matrix.T\n",
        "\n",
        "print(\"Matrix:\")\n",
        "print(matrix)\n",
        "\n",
        "print(\"\\nTransposed Matrix:\")\n",
        "print(transposed_matrix)"
      ],
      "metadata": {
        "colab": {
          "base_uri": "https://localhost:8080/"
        },
        "id": "gR9jwe8facOC",
        "outputId": "d0f7281e-f179-4785-9702-77678ab0c77a"
      },
      "execution_count": 13,
      "outputs": [
        {
          "output_type": "stream",
          "name": "stdout",
          "text": [
            "Matrix:\n",
            "[[14 13  9]\n",
            " [13 14 13]\n",
            " [ 9  9  8]]\n",
            "\n",
            "Transposed Matrix:\n",
            "[[14 13  9]\n",
            " [13 14  9]\n",
            " [ 9 13  8]]\n"
          ]
        }
      ]
    },
    {
      "cell_type": "markdown",
      "source": [
        "***10. Створіть матрицю розміром 3x4 та вектор розміром 4x1, заповніть матрицю випадковими дійсними числами від 0 до 1, а вектор - випадковими цілими числами в діапазоні від 1 до 10 і знайдіть добуток матриці на вектор.***"
      ],
      "metadata": {
        "id": "nwge4t6IaclI"
      }
    },
    {
      "cell_type": "code",
      "source": [
        "matrix = np.random.uniform(0, 1, (3, 4))\n",
        "\n",
        "vector = np.random.randint(1, 11, (4, 1))\n",
        "\n",
        "product = np.dot(matrix, vector)\n",
        "\n",
        "print(\"Matrix:\")\n",
        "print(matrix)\n",
        "\n",
        "print(\"\\nVector:\")\n",
        "print(vector)\n",
        "\n",
        "print(\"\\nProduct:\")\n",
        "print(product)"
      ],
      "metadata": {
        "colab": {
          "base_uri": "https://localhost:8080/"
        },
        "id": "f7pL5k2TavLr",
        "outputId": "8e3dde00-1ffd-4e6b-e658-54a45acbf3a1"
      },
      "execution_count": 14,
      "outputs": [
        {
          "output_type": "stream",
          "name": "stdout",
          "text": [
            "Matrix:\n",
            "[[0.38876865 0.81639623 0.96654796 0.28225855]\n",
            " [0.70038398 0.54190155 0.61445544 0.99133059]\n",
            " [0.75288223 0.85135728 0.91363722 0.13622181]]\n",
            "\n",
            "Vector:\n",
            "[[ 9]\n",
            " [ 2]\n",
            " [ 1]\n",
            " [10]]\n",
            "\n",
            "Product:\n",
            "[[ 8.92084379]\n",
            " [17.91502027]\n",
            " [10.75450993]]\n"
          ]
        }
      ]
    },
    {
      "cell_type": "markdown",
      "source": [
        "***11. Створіть матрицю розміром 2x3 та вектор розміром 3x1, заповніть матрицю випадковими дійсними числами від 0 до 1, а вектор - випадковими цілими числами в діапазоні від 1 до 10, і знайдіть добуток матриці на вектор.***"
      ],
      "metadata": {
        "id": "VBre1mXIavhA"
      }
    },
    {
      "cell_type": "code",
      "source": [
        "matrix = np.random.uniform(0, 1, (2, 3))\n",
        "\n",
        "vector = np.random.randint(1, 11, (3, 1))\n",
        "\n",
        "product = np.dot(matrix, vector)\n",
        "\n",
        "print(\"Matrix:\")\n",
        "print(matrix)\n",
        "\n",
        "print(\"\\nVector:\")\n",
        "print(vector)\n",
        "\n",
        "print(\"\\nProduct:\")\n",
        "print(product)"
      ],
      "metadata": {
        "colab": {
          "base_uri": "https://localhost:8080/"
        },
        "id": "F_X_wWrra6jb",
        "outputId": "e0c8fc5d-f996-4fe5-8d40-f86bd4d2162d"
      },
      "execution_count": 15,
      "outputs": [
        {
          "output_type": "stream",
          "name": "stdout",
          "text": [
            "Matrix:\n",
            "[[0.20885234 0.99550215 0.0047761 ]\n",
            " [0.20338089 0.74816073 0.01049132]]\n",
            "\n",
            "Vector:\n",
            "[[ 2]\n",
            " [ 2]\n",
            " [10]]\n",
            "\n",
            "Product:\n",
            "[[2.45646997]\n",
            " [2.00799639]]\n"
          ]
        }
      ]
    },
    {
      "cell_type": "markdown",
      "source": [
        "***12. Створіть дві матриці розміром 2x2, заповніть їх випадковими цілими числами в діапазоні від 1 до 10 та знайдіть суму всіх елементів обох матриць.***"
      ],
      "metadata": {
        "id": "93tNwwKqa65X"
      }
    },
    {
      "cell_type": "code",
      "source": [
        "matrix1 = np.random.randint(1, 11, (2, 2))\n",
        "matrix2 = np.random.randint(1, 11, (2, 2))\n",
        "\n",
        "sum_matrix1 = np.sum(matrix1)\n",
        "sum_matrix2 = np.sum(matrix2)\n",
        "total_sum = sum_matrix1 + sum_matrix2\n",
        "\n",
        "print(\"Matrix 1:\")\n",
        "print(matrix1)\n",
        "\n",
        "print(\"\\nMatrix 2:\")\n",
        "print(matrix2)\n",
        "\n",
        "print(\"\\nSum 1:\")\n",
        "print(sum_matrix1)\n",
        "\n",
        "print(\"\\nSum 2:\")\n",
        "print(sum_matrix2)\n",
        "\n",
        "print(\"\\nTotal sum :\")\n",
        "print(total_sum)"
      ],
      "metadata": {
        "colab": {
          "base_uri": "https://localhost:8080/"
        },
        "id": "mdv7zFF9a-rF",
        "outputId": "df962a32-e60d-4f7d-b617-88c52c6b6d51"
      },
      "execution_count": 16,
      "outputs": [
        {
          "output_type": "stream",
          "name": "stdout",
          "text": [
            "Matrix 1:\n",
            "[[ 4 10]\n",
            " [ 7  6]]\n",
            "\n",
            "Matrix 2:\n",
            "[[2 2]\n",
            " [6 7]]\n",
            "\n",
            "Sum 1:\n",
            "27\n",
            "\n",
            "Sum 2:\n",
            "17\n",
            "\n",
            "Total sum :\n",
            "44\n"
          ]
        }
      ]
    },
    {
      "cell_type": "markdown",
      "source": [
        "***13. Створіть дві матриці розміром 10x10, заповніть їх випадковими дійсними числами в діапазоні від -2 до 2 та знайдіть їх добуток.***"
      ],
      "metadata": {
        "id": "FVR1yqRXa_EZ"
      }
    },
    {
      "cell_type": "code",
      "source": [
        "matrix1 = np.random.uniform(-2, 2, (10, 10))\n",
        "matrix2 = np.random.uniform(-2, 2, (10, 10))\n",
        "\n",
        "product = np.dot(matrix1, matrix2)\n",
        "\n",
        "print(\"Matrix 1:\")\n",
        "print(matrix1)\n",
        "\n",
        "print(\"\\nMatrix 2:\")\n",
        "print(matrix2)\n",
        "\n",
        "print(\"\\nProduct:\")\n",
        "print(product)"
      ],
      "metadata": {
        "colab": {
          "base_uri": "https://localhost:8080/"
        },
        "id": "BQeFXywJbKWo",
        "outputId": "4a144dee-d498-4a4f-90d9-c146fc8d7a1d"
      },
      "execution_count": 17,
      "outputs": [
        {
          "output_type": "stream",
          "name": "stdout",
          "text": [
            "Matrix 1:\n",
            "[[-0.74243242  0.59212276  0.69992078 -0.11196011  0.52976237 -0.74576585\n",
            "  -1.84596116 -1.10289567  0.11618285  1.94219874]\n",
            " [-0.21956155  0.47346213  1.45389148  1.06297861 -1.19817299  0.34019043\n",
            "  -1.85413595  0.90769219  0.6200104   1.64611901]\n",
            " [ 1.53313775 -0.43560493  0.8068286   0.53143428  1.98095235  1.91754823\n",
            "   0.23721427 -0.85975704 -1.20232252  0.91010181]\n",
            " [-1.13563679  1.09900946 -1.95147276 -0.26843498  1.83400249 -1.60436109\n",
            "  -1.69124188 -0.85121126 -0.57170712 -1.35676632]\n",
            " [ 1.67755748  0.23153214 -1.22162056 -1.79208561  0.49697394 -0.13273595\n",
            "   1.34970122  1.48237837 -1.56109764  0.37607805]\n",
            " [-1.10673665  1.22751999 -0.73101071  1.72361487  1.88897726 -0.93366569\n",
            "   0.94973716 -0.34732389 -0.92321384  0.46508   ]\n",
            " [ 0.13905223  1.52456403  1.86438253 -0.20625096  0.6053932   1.03823682\n",
            "   1.33613724  1.11376876  0.95394792  1.99758955]\n",
            " [ 0.92789863 -0.82530011  1.84553458  1.96143911  1.14675269 -1.17623601\n",
            "  -0.99006396  0.39951527 -0.93771838 -0.82021843]\n",
            " [-1.57439851  1.35090884 -1.94952291 -0.153066    0.95771985  1.57512297\n",
            "   0.48395561  1.20979588  1.77128012 -1.96377457]\n",
            " [-0.62707906 -1.08102854  0.62356438 -0.7769141   1.61381525  0.25730592\n",
            "  -0.10892267 -0.43749697 -1.18031761 -1.91865543]]\n",
            "\n",
            "Matrix 2:\n",
            "[[-0.61152719 -0.43270938 -0.72636501  1.04199776 -1.03805615 -0.49125972\n",
            "   0.00362289  0.18314533 -0.30216164 -1.04561903]\n",
            " [-0.86967678 -0.07759587 -0.94808195  1.9200987   0.35753008  1.95009375\n",
            "   1.9887552  -1.21444044 -0.48269066 -1.59339657]\n",
            " [ 0.39571984  0.40027479 -1.23428039 -0.9813195  -0.75794388 -0.61485642\n",
            "  -1.46324971  1.11323065 -1.56905631 -1.73854958]\n",
            " [-0.38799026 -1.80258807  1.98298097  0.46412517  1.45689278 -1.3987725\n",
            "   0.14678858  0.8025097  -1.57102533 -1.86366717]\n",
            " [-1.34528078  0.87851748  0.68552117 -1.3490052  -1.92078914 -0.7559184\n",
            "   1.36592384  1.8803103   1.59837163 -0.75586677]\n",
            " [-1.7127573  -0.23906568 -1.25007197  1.1033626   0.23603844 -1.28148098\n",
            "  -0.32938674  1.7259521  -1.31736937 -0.80309885]\n",
            " [ 0.56903201  0.94052368  0.09060538 -0.50386813  1.07883518  1.97125176\n",
            "   0.72186409  1.39987845 -1.00430664 -0.53664974]\n",
            " [-1.31080141  0.81199464 -1.46269322  0.50875708 -0.4211205   0.07709987\n",
            "  -0.55288665  1.29856979  0.59358595  1.61807078]\n",
            " [-0.08770785  0.77810895  1.04475772  1.82314936  1.35522551  1.65335238\n",
            "  -0.71997583 -1.93384243 -0.51850312 -1.14265237]\n",
            " [ 0.34569006 -0.34052152 -1.04438614 -0.34908764  1.67990732 -1.2529211\n",
            "   1.0710474   1.05111019  0.43800735 -1.08775449]]\n",
            "\n",
            "Product:\n",
            "[[ 1.88058582 -1.8016908  -0.27367142 -2.01015441  0.98831446 -4.1643123\n",
            "   2.37734582 -2.65630785  2.83510957 -4.01620227]\n",
            " [-0.81556708 -3.49475346 -3.78977109  3.69039607  4.44863398 -5.50221641\n",
            "  -3.3028417  -0.69503392 -3.67622951 -4.43638128]\n",
            " [-4.71284551 -1.70318423 -2.60932538 -3.40719799 -4.41944469 -9.52364526\n",
            "   2.59786466 11.66620848 -1.44020679 -7.47401096]\n",
            " [-0.91424295 -0.16104896  6.83363108 -1.67653841 -5.76175585  2.30121711\n",
            "   6.23942905 -7.04449541  9.23672348  4.89086573]\n",
            " [-2.36471638  3.59622286 -7.04697832 -1.16055192 -4.98150671  2.40231258\n",
            "   4.39503022  5.1619184   5.58132678  6.12063212]\n",
            " [-1.05337925 -1.39872649  5.5661778  -3.35809758  1.50521269  0.48084397\n",
            "   8.68804778  3.96908439  1.95272931 -3.94068782]\n",
            " [-3.27853385  3.44631964 -7.7370889   2.41105393  3.39040259  2.05291833\n",
            "   2.56051075  6.585856   -4.07974293 -8.90077136]\n",
            " [-0.69685244 -2.90289575  3.17941407 -5.08443998 -6.16486339 -7.74669775\n",
            "  -3.23564241  5.01101048 -1.11833199 -3.29993566]\n",
            " [-7.05497726  4.02129379  2.82885306  7.52786445  1.01830772  8.51444871\n",
            "   2.60233702 -2.94368706  1.03232307  2.98937366]\n",
            " [-0.78816984  2.63876965  1.35551245 -7.2445546  -9.13515952 -2.4423721\n",
            "  -2.10096182  4.29249032  2.8152482   4.1018043 ]]\n"
          ]
        }
      ]
    },
    {
      "cell_type": "markdown",
      "source": [
        "***14. Створіть матрицю розміром 3x3, заповніть її випадковими дійсними числами в діапазоні від -1 до 1 та знайдіть середнє арифметичне значення елементів матриці.***"
      ],
      "metadata": {
        "id": "KmBrF4yvbKu8"
      }
    },
    {
      "cell_type": "code",
      "source": [
        "matrix = np.random.uniform(-1, 1, (3, 3))\n",
        "\n",
        "mean_value = np.mean(matrix)\n",
        "\n",
        "print(\"Matrix:\")\n",
        "print(matrix)\n",
        "\n",
        "print(\"\\nMean Value:\")\n",
        "print(mean_value)"
      ],
      "metadata": {
        "colab": {
          "base_uri": "https://localhost:8080/"
        },
        "id": "nWaRwly6bPsv",
        "outputId": "f622456d-37b3-4dbe-fade-828d18447cc2"
      },
      "execution_count": 18,
      "outputs": [
        {
          "output_type": "stream",
          "name": "stdout",
          "text": [
            "Matrix:\n",
            "[[ 0.32540801  0.26875659  0.5375618 ]\n",
            " [ 0.32873101 -0.69024144 -0.01829825]\n",
            " [-0.68346156 -0.67169277 -0.83503209]]\n",
            "\n",
            "Mean Value:\n",
            "-0.15980763412829316\n"
          ]
        }
      ]
    },
    {
      "cell_type": "markdown",
      "source": [
        "***15. Створіть матрицю розміром 3x3, заповніть її випадковими дійсними числами в діапазоні від 0 до 1 та знайдіть вектор-стовпчик, що містить суму квадратів елементів кожного рядка матриці.***"
      ],
      "metadata": {
        "id": "T9XMhf8-bQCs"
      }
    },
    {
      "cell_type": "code",
      "source": [
        "matrix = np.random.uniform(0, 1, (3, 3))\n",
        "\n",
        "sum_of_squares = np.sum(matrix**2, axis=1)\n",
        "\n",
        "result_vector = sum_of_squares.reshape(-1, 1)\n",
        "\n",
        "print(\"Matrix:\")\n",
        "print(matrix)\n",
        "\n",
        "print(\"\\nVector:\")\n",
        "print(result_vector)"
      ],
      "metadata": {
        "colab": {
          "base_uri": "https://localhost:8080/"
        },
        "id": "HBM-RmXwbZWh",
        "outputId": "c4fdd046-05ec-4715-f0d9-a30664fe2a1b"
      },
      "execution_count": 19,
      "outputs": [
        {
          "output_type": "stream",
          "name": "stdout",
          "text": [
            "Matrix:\n",
            "[[0.50738489 0.45322813 0.93297482]\n",
            " [0.77055074 0.85614962 0.27818719]\n",
            " [0.10241539 0.72309468 0.46411574]]\n",
            "\n",
            "Vector:\n",
            "[[1.33329718]\n",
            " [1.40412874]\n",
            " [0.74875825]]\n"
          ]
        }
      ]
    }
  ]
}