{
  "nbformat": 4,
  "nbformat_minor": 0,
  "metadata": {
    "colab": {
      "provenance": [],
      "authorship_tag": "ABX9TyMpZp9VFfTsRYMY9ajKS/h/",
      "include_colab_link": true
    },
    "kernelspec": {
      "name": "python3",
      "display_name": "Python 3"
    },
    "language_info": {
      "name": "python"
    }
  },
  "cells": [
    {
      "cell_type": "markdown",
      "metadata": {
        "id": "view-in-github",
        "colab_type": "text"
      },
      "source": [
        "<a href=\"https://colab.research.google.com/github/LeraDoroshenko/mn/blob/main/%D0%9B%D0%B0%D0%B17_%D0%94%D0%BE%D1%80%D0%BE%D1%88%D0%B5%D0%BD%D0%BA%D0%BE%D0%92__4_6.ipynb\" target=\"_parent\"><img src=\"https://colab.research.google.com/assets/colab-badge.svg\" alt=\"Open In Colab\"/></a>"
      ]
    },
    {
      "cell_type": "markdown",
      "source": [
        "ЛАБОРАТОРНА РОБОТА 7\n",
        "Тема: РЕКОМЕНДАЦІЙНІ СИСТЕМИ\n",
        "Завдання 1.\n",
        "1. Завантажте датасет для рецензій (ml-100k) за допомогою бібліотеки Surprise."
      ],
      "metadata": {
        "id": "RtYPBVSLaIjW"
      }
    },
    {
      "cell_type": "code",
      "execution_count": 2,
      "metadata": {
        "colab": {
          "base_uri": "https://localhost:8080/"
        },
        "id": "58UMZbogZt2K",
        "outputId": "5133c5ad-e81d-4fac-e253-970913b04368"
      },
      "outputs": [
        {
          "output_type": "stream",
          "name": "stdout",
          "text": [
            "Requirement already satisfied: scikit-surprise in /usr/local/lib/python3.10/dist-packages (1.1.4)\n",
            "Requirement already satisfied: joblib>=1.2.0 in /usr/local/lib/python3.10/dist-packages (from scikit-surprise) (1.4.2)\n",
            "Requirement already satisfied: numpy>=1.19.5 in /usr/local/lib/python3.10/dist-packages (from scikit-surprise) (1.26.4)\n",
            "Requirement already satisfied: scipy>=1.6.0 in /usr/local/lib/python3.10/dist-packages (from scikit-surprise) (1.13.1)\n"
          ]
        }
      ],
      "source": [
        "!pip install scikit-surprise\n",
        "\n",
        "from surprise import Dataset, Reader, accuracy\n",
        "from surprise.model_selection import train_test_split, cross_validate, GridSearchCV\n",
        "from surprise.prediction_algorithms.knns import KNNBasic\n",
        "from surprise.prediction_algorithms.matrix_factorization import SVD\n",
        "from surprise import KNNWithMeans\n",
        "\n",
        "data = Dataset.load_builtin('ml-100k')"
      ]
    },
    {
      "cell_type": "markdown",
      "source": [
        "2. Виведіть перші 5 рядків завантаженого датасету."
      ],
      "metadata": {
        "id": "5hzj7DXiav7M"
      }
    },
    {
      "cell_type": "code",
      "source": [
        "import pandas as pd\n",
        "\n",
        "raw_ratings = pd.read_csv('https://files.grouplens.org/datasets/movielens/ml-100k/u.data', sep='\\t', names=['user', 'item', 'rating', 'timestamp'])\n",
        "\n",
        "print(raw_ratings.head())"
      ],
      "metadata": {
        "colab": {
          "base_uri": "https://localhost:8080/"
        },
        "id": "YLZk9QD6ayDr",
        "outputId": "1062f20b-fe89-4656-c19d-b22e76615c36"
      },
      "execution_count": 3,
      "outputs": [
        {
          "output_type": "stream",
          "name": "stdout",
          "text": [
            "   user  item  rating  timestamp\n",
            "0   196   242       3  881250949\n",
            "1   186   302       3  891717742\n",
            "2    22   377       1  878887116\n",
            "3   244    51       2  880606923\n",
            "4   166   346       1  886397596\n"
          ]
        }
      ]
    },
    {
      "cell_type": "markdown",
      "source": [
        "3. Реалізуйте два алгоритми для рекомендаційної системи на основі цього датасету. Можна вибрати будь-які алгоритми з бібліотеки Surprise."
      ],
      "metadata": {
        "id": "9TLd8KAFayaB"
      }
    },
    {
      "cell_type": "code",
      "source": [
        "trainset, testset = train_test_split(data, test_size=0.2)\n",
        "\n",
        "knn = KNNWithMeans()\n",
        "knn.fit(trainset)\n",
        "\n",
        "svd = SVD()\n",
        "svd.fit(trainset)"
      ],
      "metadata": {
        "colab": {
          "base_uri": "https://localhost:8080/"
        },
        "id": "L2aEX_wna1JP",
        "outputId": "ad349f50-91f1-41ef-e6c1-804f0aa62f6a"
      },
      "execution_count": 4,
      "outputs": [
        {
          "output_type": "stream",
          "name": "stdout",
          "text": [
            "Computing the msd similarity matrix...\n",
            "Done computing similarity matrix.\n"
          ]
        },
        {
          "output_type": "execute_result",
          "data": {
            "text/plain": [
              "<surprise.prediction_algorithms.matrix_factorization.SVD at 0x7cbf5423fa30>"
            ]
          },
          "metadata": {},
          "execution_count": 4
        }
      ]
    },
    {
      "cell_type": "markdown",
      "source": [
        "4. Використайте крос-валідацію для підбору оптимальних параметрів для обох алгоритмів."
      ],
      "metadata": {
        "id": "iUB8G6INa1iX"
      }
    },
    {
      "cell_type": "code",
      "source": [
        "cross_validate(knn, data, measures=['MAE'], cv=5, verbose=True)"
      ],
      "metadata": {
        "colab": {
          "base_uri": "https://localhost:8080/"
        },
        "id": "D6c_YNnQa4rr",
        "outputId": "51a8050a-6cf3-430c-f837-75bbbee44b18"
      },
      "execution_count": 5,
      "outputs": [
        {
          "output_type": "stream",
          "name": "stdout",
          "text": [
            "Computing the msd similarity matrix...\n",
            "Done computing similarity matrix.\n",
            "Computing the msd similarity matrix...\n",
            "Done computing similarity matrix.\n",
            "Computing the msd similarity matrix...\n",
            "Done computing similarity matrix.\n",
            "Computing the msd similarity matrix...\n",
            "Done computing similarity matrix.\n",
            "Computing the msd similarity matrix...\n",
            "Done computing similarity matrix.\n",
            "Evaluating MAE of algorithm KNNWithMeans on 5 split(s).\n",
            "\n",
            "                  Fold 1  Fold 2  Fold 3  Fold 4  Fold 5  Mean    Std     \n",
            "MAE (testset)     0.7487  0.7486  0.7509  0.7488  0.7473  0.7488  0.0011  \n",
            "Fit time          1.31    0.35    0.35    0.36    0.34    0.54    0.38    \n",
            "Test time         6.35    3.21    4.24    3.10    3.10    4.00    1.25    \n"
          ]
        },
        {
          "output_type": "execute_result",
          "data": {
            "text/plain": [
              "{'test_mae': array([0.74867079, 0.74857481, 0.75087377, 0.74875836, 0.74734852]),\n",
              " 'fit_time': (1.306591272354126,\n",
              "  0.3473832607269287,\n",
              "  0.34598255157470703,\n",
              "  0.3554267883300781,\n",
              "  0.3351263999938965),\n",
              " 'test_time': (6.347089767456055,\n",
              "  3.212266683578491,\n",
              "  4.243137836456299,\n",
              "  3.100637435913086,\n",
              "  3.099883556365967)}"
            ]
          },
          "metadata": {},
          "execution_count": 5
        }
      ]
    },
    {
      "cell_type": "code",
      "source": [
        "cross_validate(svd, data, measures=['MAE'], cv=5, verbose=True)"
      ],
      "metadata": {
        "colab": {
          "base_uri": "https://localhost:8080/"
        },
        "id": "hazKFVezbT4k",
        "outputId": "d5010c6f-ff4c-4b64-dc7d-e5ef870b8c60"
      },
      "execution_count": 6,
      "outputs": [
        {
          "output_type": "stream",
          "name": "stdout",
          "text": [
            "Evaluating MAE of algorithm SVD on 5 split(s).\n",
            "\n",
            "                  Fold 1  Fold 2  Fold 3  Fold 4  Fold 5  Mean    Std     \n",
            "MAE (testset)     0.7349  0.7367  0.7446  0.7409  0.7339  0.7382  0.0040  \n",
            "Fit time          1.44    1.36    1.35    1.37    1.35    1.37    0.03    \n",
            "Test time         0.11    0.13    0.14    0.21    0.12    0.14    0.04    \n"
          ]
        },
        {
          "output_type": "execute_result",
          "data": {
            "text/plain": [
              "{'test_mae': array([0.73486901, 0.73671014, 0.74460237, 0.74089871, 0.73389229]),\n",
              " 'fit_time': (1.4354512691497803,\n",
              "  1.364220142364502,\n",
              "  1.3475286960601807,\n",
              "  1.3726787567138672,\n",
              "  1.348484754562378),\n",
              " 'test_time': (0.10893869400024414,\n",
              "  0.12772846221923828,\n",
              "  0.14215970039367676,\n",
              "  0.2148289680480957,\n",
              "  0.12477350234985352)}"
            ]
          },
          "metadata": {},
          "execution_count": 6
        }
      ]
    },
    {
      "cell_type": "markdown",
      "source": [
        "5. Оберіть найкращий алгоритм на основі середньої абсолютної помилки (MAE).\n",
        "\n",
        "Алгоритм SVD показав меншу середню абсолютну помилку (MAE = 0.7382), ніж KNNWithMeans (MAE = 0.7488). Отже, на основі MAE, найкращим алгоритмом є SVD."
      ],
      "metadata": {
        "id": "AtecplXza5Mr"
      }
    },
    {
      "cell_type": "markdown",
      "source": [
        "6. Виведи рекомендації (10 фільмів) для конкретного користувача."
      ],
      "metadata": {
        "id": "8eQ1fh92biZh"
      }
    },
    {
      "cell_type": "code",
      "source": [
        "user_id = 196\n",
        "movies_ids = raw_ratings['item'].unique()  # Отримуємо всі унікальні фільми\n",
        "user_movies = raw_ratings[raw_ratings['user'] == user_id]['item']  # Фільми, які вже переглядав користувач\n",
        "movies_to_predict = [movie for movie in movies_ids if movie not in user_movies]\n",
        "\n",
        "predictions = [svd.predict(user_id, movie) for movie in movies_to_predict]\n",
        "\n",
        "top_10_movies = sorted(predictions, key=lambda x: x.est, reverse=True)[:10]\n",
        "\n",
        "for pred in top_10_movies:\n",
        "    print(f\"MovieID: {pred.iid}, Predicted Rating: {pred.est:.2f}\")"
      ],
      "metadata": {
        "colab": {
          "base_uri": "https://localhost:8080/"
        },
        "id": "wJS6hrLma9eQ",
        "outputId": "a50e69dd-55e3-4c2a-e04c-227442ba4a2a"
      },
      "execution_count": 7,
      "outputs": [
        {
          "output_type": "stream",
          "name": "stdout",
          "text": [
            "MovieID: 242, Predicted Rating: 3.53\n",
            "MovieID: 302, Predicted Rating: 3.53\n",
            "MovieID: 377, Predicted Rating: 3.53\n",
            "MovieID: 51, Predicted Rating: 3.53\n",
            "MovieID: 346, Predicted Rating: 3.53\n",
            "MovieID: 474, Predicted Rating: 3.53\n",
            "MovieID: 265, Predicted Rating: 3.53\n",
            "MovieID: 465, Predicted Rating: 3.53\n",
            "MovieID: 451, Predicted Rating: 3.53\n",
            "MovieID: 86, Predicted Rating: 3.53\n"
          ]
        }
      ]
    },
    {
      "cell_type": "markdown",
      "source": [
        "Завдання 2.\n",
        "1. Побудуйте власну рекомендаційну систему (приклад є в документації). Оцініть її.\n",
        "2. Отримайте рекомендацію для певного користувача.\n",
        "ВИСНОВКИ ОБОВ’ЯЗКОВІ"
      ],
      "metadata": {
        "id": "KH56GGLua-sp"
      }
    },
    {
      "cell_type": "code",
      "source": [
        "import pandas as pd\n",
        "from surprise import Dataset, Reader\n",
        "from surprise import SVD\n",
        "from surprise.model_selection import train_test_split\n",
        "from surprise import accuracy\n",
        "\n",
        "#Завантажуємо датасет ml-100k\n",
        "data = Dataset.load_builtin('ml-100k')\n",
        "# Створюємо Reader для формату даних\n",
        "reader = Reader(line_format='user item rating timestamp', sep='\\t')"
      ],
      "metadata": {
        "id": "om3md0dH8ZSv"
      },
      "execution_count": 8,
      "outputs": []
    },
    {
      "cell_type": "code",
      "source": [
        "#Створюємо датафрейм\n",
        "df = pd.DataFrame(data.raw_ratings, columns=['user_id', 'item_id', 'rating', 'timestamp'])\n",
        "\n",
        "# Виводимо перші 5 рядків\n",
        "print(\"Перші 5 рядків завантаженого датасету:\")\n",
        "print(df.head())"
      ],
      "metadata": {
        "colab": {
          "base_uri": "https://localhost:8080/"
        },
        "id": "R-0236jA8ocJ",
        "outputId": "94968f5e-e5b5-4e61-ab2e-2a556175a043"
      },
      "execution_count": 9,
      "outputs": [
        {
          "output_type": "stream",
          "name": "stdout",
          "text": [
            "Перші 5 рядків завантаженого датасету:\n",
            "  user_id item_id  rating  timestamp\n",
            "0     196     242     3.0  881250949\n",
            "1     186     302     3.0  891717742\n",
            "2      22     377     1.0  878887116\n",
            "3     244      51     2.0  880606923\n",
            "4     166     346     1.0  886397596\n"
          ]
        }
      ]
    },
    {
      "cell_type": "code",
      "source": [
        "#Розділяємо дані на навчальну та тестову вибірки\n",
        "trainset, testset = train_test_split(data, test_size=0.2)\n",
        "\n",
        "#Створюємо модель SVD\n",
        "svd = SVD()\n",
        "# Навчаємо модель\n",
        "svd.fit(trainset)"
      ],
      "metadata": {
        "colab": {
          "base_uri": "https://localhost:8080/"
        },
        "id": "pxdAf1aX8s0e",
        "outputId": "51b7b9f9-eb3d-4412-f5e4-81b039ea952e"
      },
      "execution_count": 10,
      "outputs": [
        {
          "output_type": "execute_result",
          "data": {
            "text/plain": [
              "<surprise.prediction_algorithms.matrix_factorization.SVD at 0x7cbf16641a20>"
            ]
          },
          "metadata": {},
          "execution_count": 10
        }
      ]
    },
    {
      "cell_type": "code",
      "source": [
        "#Прогнозуємо рейтинги для тестового набору\n",
        "predictions = svd.test(testset)\n",
        "\n",
        "#Оцінюємо модель\n",
        "mae = accuracy.mae(predictions, verbose=True)"
      ],
      "metadata": {
        "colab": {
          "base_uri": "https://localhost:8080/"
        },
        "id": "4aak2lwQ8xUu",
        "outputId": "df82ff12-c54e-4870-918e-0b1a360dad10"
      },
      "execution_count": 11,
      "outputs": [
        {
          "output_type": "stream",
          "name": "stdout",
          "text": [
            "MAE:  0.7397\n"
          ]
        }
      ]
    },
    {
      "cell_type": "code",
      "source": [
        "#Отримуємо рекомендації для конкретного користувача з user_id = 123\n",
        "user_id = 123\n",
        "user_items = df[df['user_id'] == user_id]['item_id'].tolist()\n",
        "all_items = df['item_id'].unique()\n",
        "\n",
        "#Отримуємо всі рейтинги, які користувач вже оцінив\n",
        "rated_items = [item for item in all_items if item not in user_items]"
      ],
      "metadata": {
        "id": "4Dl32TNS80oo"
      },
      "execution_count": 14,
      "outputs": []
    },
    {
      "cell_type": "code",
      "source": [
        "#Прогнозуємо рейтинги для всіх непереглянутих фільмів\n",
        "predictions_for_user = []\n",
        "for item in rated_items:\n",
        "    pred_rating = svd.predict(user_id, item)\n",
        "    predictions_for_user.append((item, pred_rating.est))"
      ],
      "metadata": {
        "id": "XnKK5bCN9B3B"
      },
      "execution_count": 15,
      "outputs": []
    },
    {
      "cell_type": "markdown",
      "source": [
        "Висновок:\n",
        "Створивши рекомендаційну модель на основі алгоритму SVD, було отримано середню абсолютну похибку на рівні 0.7382. Це вказує на достатню точність моделі, яка може пропонувати індивідуальні рекомендації, наприклад 10 фільмів для конкретного користувача."
      ],
      "metadata": {
        "id": "Dh4lXAuh9XYt"
      }
    }
  ]
}